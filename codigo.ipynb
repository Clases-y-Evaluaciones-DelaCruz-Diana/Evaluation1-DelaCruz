{
 "cells": [
  {
   "cell_type": "code",
   "execution_count": 1,
   "id": "d420682a",
   "metadata": {},
   "outputs": [],
   "source": [
    "import pandas as pd\n",
    "\n",
    "gastopublicLink='https://github.com/Clases-y-Evaluaciones-DelaCruz-Diana/Evaluation1-DelaCruz/raw/main/excelsdevariables/GastopublicoEducacion.csv'\n",
    "onuLink='https://github.com/Clases-y-Evaluaciones-DelaCruz-Diana/Evaluation1-DelaCruz/raw/main/excelsdevariables/ONU.csv'\n",
    "reservaspetLink='https://github.com/Clases-y-Evaluaciones-DelaCruz-Diana/Evaluation1-DelaCruz/raw/main/excelsdevariables/Reservaspet.csv'\n",
    "\n",
    "gastopublic=pd.read_csv(gastopublicLink)\n",
    "onu=pd.read_csv(onuLink)\n",
    "reservaspet=pd.read_csv(reservaspetLink)"
   ]
  },
  {
   "cell_type": "code",
   "execution_count": 2,
   "id": "b6ed9b78",
   "metadata": {},
   "outputs": [
    {
     "data": {
      "text/plain": [
       "((192, 2), (193, 2), (99, 2))"
      ]
     },
     "execution_count": 2,
     "metadata": {},
     "output_type": "execute_result"
    }
   ],
   "source": [
    "gastopublic.shape,onu.shape,reservaspet.shape"
   ]
  },
  {
   "cell_type": "code",
   "execution_count": 3,
   "id": "d82b8a24",
   "metadata": {},
   "outputs": [
    {
     "data": {
      "text/plain": [
       "(Index(['Countries', 'Education Expenditure ($M)'], dtype='object'),\n",
       " Index(['Countries', 'Annual GDP'], dtype='object'),\n",
       " Index(['Countries', 'Crude Oil Reserves'], dtype='object'))"
      ]
     },
     "execution_count": 3,
     "metadata": {},
     "output_type": "execute_result"
    }
   ],
   "source": [
    "gastopublic.columns,onu.columns,reservaspet.columns"
   ]
  },
  {
   "cell_type": "code",
   "execution_count": 4,
   "id": "ed5a8c03",
   "metadata": {
    "scrolled": true
   },
   "outputs": [
    {
     "data": {
      "text/html": [
       "<div>\n",
       "<style scoped>\n",
       "    .dataframe tbody tr th:only-of-type {\n",
       "        vertical-align: middle;\n",
       "    }\n",
       "\n",
       "    .dataframe tbody tr th {\n",
       "        vertical-align: top;\n",
       "    }\n",
       "\n",
       "    .dataframe thead th {\n",
       "        text-align: right;\n",
       "    }\n",
       "</style>\n",
       "<table border=\"1\" class=\"dataframe\">\n",
       "  <thead>\n",
       "    <tr style=\"text-align: right;\">\n",
       "      <th></th>\n",
       "      <th>Countries</th>\n",
       "      <th>Education Expenditure ($M)</th>\n",
       "      <th>Annual GDP</th>\n",
       "      <th>Crude Oil Reserves</th>\n",
       "    </tr>\n",
       "  </thead>\n",
       "  <tbody>\n",
       "    <tr>\n",
       "      <th>0</th>\n",
       "      <td>United States [+]</td>\n",
       "      <td>1,014,715.40</td>\n",
       "      <td>$25,744,100M</td>\n",
       "      <td>44,418.00</td>\n",
       "    </tr>\n",
       "    <tr>\n",
       "      <th>1</th>\n",
       "      <td>United Kingdom [+]</td>\n",
       "      <td>148,933.50</td>\n",
       "      <td>$3,070,600M</td>\n",
       "      <td>2,500.00</td>\n",
       "    </tr>\n",
       "    <tr>\n",
       "      <th>2</th>\n",
       "      <td>Germany [+]</td>\n",
       "      <td>197,848.90</td>\n",
       "      <td>$4,075,395M</td>\n",
       "      <td>115.2</td>\n",
       "    </tr>\n",
       "    <tr>\n",
       "      <th>3</th>\n",
       "      <td>France [+]</td>\n",
       "      <td>150,980.20</td>\n",
       "      <td>$2,782,905M</td>\n",
       "      <td>61.7</td>\n",
       "    </tr>\n",
       "    <tr>\n",
       "      <th>4</th>\n",
       "      <td>Japan [+]</td>\n",
       "      <td>155,149.20</td>\n",
       "      <td>$4,233,538M</td>\n",
       "      <td>44.1</td>\n",
       "    </tr>\n",
       "    <tr>\n",
       "      <th>...</th>\n",
       "      <td>...</td>\n",
       "      <td>...</td>\n",
       "      <td>...</td>\n",
       "      <td>...</td>\n",
       "    </tr>\n",
       "    <tr>\n",
       "      <th>93</th>\n",
       "      <td>Uzbekistan [+]</td>\n",
       "      <td>2,964.80</td>\n",
       "      <td>$80,392M</td>\n",
       "      <td>594</td>\n",
       "    </tr>\n",
       "    <tr>\n",
       "      <th>94</th>\n",
       "      <td>Venezuela [+]</td>\n",
       "      <td>1,557.60</td>\n",
       "      <td>$102,021M</td>\n",
       "      <td>303,806.00</td>\n",
       "    </tr>\n",
       "    <tr>\n",
       "      <th>95</th>\n",
       "      <td>Viet Nam [+]</td>\n",
       "      <td>13,478.30</td>\n",
       "      <td>$406,452M</td>\n",
       "      <td>4,400.00</td>\n",
       "    </tr>\n",
       "    <tr>\n",
       "      <th>96</th>\n",
       "      <td>Yemen [+]</td>\n",
       "      <td>1,386.30</td>\n",
       "      <td>$21,062M</td>\n",
       "      <td>3,000.00</td>\n",
       "    </tr>\n",
       "    <tr>\n",
       "      <th>97</th>\n",
       "      <td>South Africa [+]</td>\n",
       "      <td>20,902.30</td>\n",
       "      <td>$405,705M</td>\n",
       "      <td>15</td>\n",
       "    </tr>\n",
       "  </tbody>\n",
       "</table>\n",
       "<p>98 rows × 4 columns</p>\n",
       "</div>"
      ],
      "text/plain": [
       "             Countries Education Expenditure ($M)    Annual GDP  \\\n",
       "0    United States [+]               1,014,715.40  $25,744,100M   \n",
       "1   United Kingdom [+]                 148,933.50   $3,070,600M   \n",
       "2          Germany [+]                 197,848.90   $4,075,395M   \n",
       "3           France [+]                 150,980.20   $2,782,905M   \n",
       "4            Japan [+]                 155,149.20   $4,233,538M   \n",
       "..                 ...                        ...           ...   \n",
       "93      Uzbekistan [+]                   2,964.80      $80,392M   \n",
       "94       Venezuela [+]                   1,557.60     $102,021M   \n",
       "95        Viet Nam [+]                  13,478.30     $406,452M   \n",
       "96           Yemen [+]                   1,386.30      $21,062M   \n",
       "97    South Africa [+]                  20,902.30     $405,705M   \n",
       "\n",
       "   Crude Oil Reserves  \n",
       "0           44,418.00  \n",
       "1            2,500.00  \n",
       "2               115.2  \n",
       "3                61.7  \n",
       "4                44.1  \n",
       "..                ...  \n",
       "93                594  \n",
       "94         303,806.00  \n",
       "95           4,400.00  \n",
       "96           3,000.00  \n",
       "97                 15  \n",
       "\n",
       "[98 rows x 4 columns]"
      ]
     },
     "execution_count": 4,
     "metadata": {},
     "output_type": "execute_result"
    }
   ],
   "source": [
    "#Union=gastopublic.merge(onu,how='inner',left_on='Countries',right_on='Countries')\n",
    "#Union\n",
    "merge1=gastopublic.merge(onu,how='inner',left_on='Countries',right_on='Countries').merge(reservaspet,how='inner',left_on='Countries',right_on='Countries')\n",
    "merge1"
   ]
  },
  {
   "cell_type": "code",
   "execution_count": 6,
   "id": "9255addf",
   "metadata": {},
   "outputs": [
    {
     "data": {
      "text/plain": [
       "(98, 4)"
      ]
     },
     "execution_count": 6,
     "metadata": {},
     "output_type": "execute_result"
    }
   ],
   "source": [
    "merge1.shape"
   ]
  },
  {
   "cell_type": "code",
   "execution_count": 5,
   "id": "fffc7686",
   "metadata": {
    "scrolled": false
   },
   "outputs": [
    {
     "data": {
      "text/html": [
       "<div>\n",
       "<style scoped>\n",
       "    .dataframe tbody tr th:only-of-type {\n",
       "        vertical-align: middle;\n",
       "    }\n",
       "\n",
       "    .dataframe tbody tr th {\n",
       "        vertical-align: top;\n",
       "    }\n",
       "\n",
       "    .dataframe thead th {\n",
       "        text-align: right;\n",
       "    }\n",
       "</style>\n",
       "<table border=\"1\" class=\"dataframe\">\n",
       "  <thead>\n",
       "    <tr style=\"text-align: right;\">\n",
       "      <th></th>\n",
       "      <th>Countries</th>\n",
       "      <th>Education Expenditure ($M)</th>\n",
       "    </tr>\n",
       "  </thead>\n",
       "  <tbody>\n",
       "    <tr>\n",
       "      <th>0</th>\n",
       "      <td>United States [+]</td>\n",
       "      <td>1,014,715.40</td>\n",
       "    </tr>\n",
       "    <tr>\n",
       "      <th>1</th>\n",
       "      <td>United Kingdom [+]</td>\n",
       "      <td>148,933.50</td>\n",
       "    </tr>\n",
       "    <tr>\n",
       "      <th>2</th>\n",
       "      <td>Germany [+]</td>\n",
       "      <td>197,848.90</td>\n",
       "    </tr>\n",
       "    <tr>\n",
       "      <th>3</th>\n",
       "      <td>France [+]</td>\n",
       "      <td>150,980.20</td>\n",
       "    </tr>\n",
       "    <tr>\n",
       "      <th>4</th>\n",
       "      <td>Japan [+]</td>\n",
       "      <td>155,149.20</td>\n",
       "    </tr>\n",
       "    <tr>\n",
       "      <th>...</th>\n",
       "      <td>...</td>\n",
       "      <td>...</td>\n",
       "    </tr>\n",
       "    <tr>\n",
       "      <th>187</th>\n",
       "      <td>Samoa [+]</td>\n",
       "      <td>41.7</td>\n",
       "    </tr>\n",
       "    <tr>\n",
       "      <th>188</th>\n",
       "      <td>Yemen [+]</td>\n",
       "      <td>1,386.30</td>\n",
       "    </tr>\n",
       "    <tr>\n",
       "      <th>189</th>\n",
       "      <td>South Africa [+]</td>\n",
       "      <td>20,902.30</td>\n",
       "    </tr>\n",
       "    <tr>\n",
       "      <th>190</th>\n",
       "      <td>Zambia [+]</td>\n",
       "      <td>670.5</td>\n",
       "    </tr>\n",
       "    <tr>\n",
       "      <th>191</th>\n",
       "      <td>Zimbabwe [+]</td>\n",
       "      <td>1,428.30</td>\n",
       "    </tr>\n",
       "  </tbody>\n",
       "</table>\n",
       "<p>192 rows × 2 columns</p>\n",
       "</div>"
      ],
      "text/plain": [
       "              Countries Education Expenditure ($M)\n",
       "0     United States [+]               1,014,715.40\n",
       "1    United Kingdom [+]                 148,933.50\n",
       "2           Germany [+]                 197,848.90\n",
       "3            France [+]                 150,980.20\n",
       "4             Japan [+]                 155,149.20\n",
       "..                  ...                        ...\n",
       "187           Samoa [+]                       41.7\n",
       "188           Yemen [+]                   1,386.30\n",
       "189    South Africa [+]                  20,902.30\n",
       "190          Zambia [+]                      670.5\n",
       "191        Zimbabwe [+]                   1,428.30\n",
       "\n",
       "[192 rows x 2 columns]"
      ]
     },
     "execution_count": 5,
     "metadata": {},
     "output_type": "execute_result"
    }
   ],
   "source": [
    "import pandas as pd\n",
    "\n",
    "gastopublicLink='https://github.com/Clases-y-Evaluaciones-DelaCruz-Diana/Evaluation1-DelaCruz/raw/main/excelsdevariables/GastopublicoEducacion.csv'\n",
    "\n",
    "gastopublic=pd.read_csv(gastopublicLink)"
   ]
  },
  {
   "cell_type": "code",
   "execution_count": null,
   "id": "31c61255",
   "metadata": {},
   "outputs": [],
   "source": []
  }
 ],
 "metadata": {
  "kernelspec": {
   "display_name": "Python 3 (ipykernel)",
   "language": "python",
   "name": "python3"
  },
  "language_info": {
   "codemirror_mode": {
    "name": "ipython",
    "version": 3
   },
   "file_extension": ".py",
   "mimetype": "text/x-python",
   "name": "python",
   "nbconvert_exporter": "python",
   "pygments_lexer": "ipython3",
   "version": "3.11.4"
  }
 },
 "nbformat": 4,
 "nbformat_minor": 5
}
