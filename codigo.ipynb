{
 "cells": [
  {
   "cell_type": "code",
   "execution_count": 5,
   "id": "74b15afd",
   "metadata": {},
   "outputs": [],
   "source": [
    "import pandas as pd\n",
    "\n",
    "gastopublicLink='https://github.com/Clases-y-Evaluaciones-DelaCruz-Diana/Evaluation1-DelaCruz/raw/main/excelsdevariables/GastopublicoEducacion.csv'\n",
    "onuLink='https://github.com/Clases-y-Evaluaciones-DelaCruz-Diana/Evaluation1-DelaCruz/raw/main/excelsdevariables/ONU.csv'\n",
    "reservaspetLink='https://github.com/Clases-y-Evaluaciones-DelaCruz-Diana/Evaluation1-DelaCruz/raw/main/excelsdevariables/Reservaspet.csv'\n",
    "\n",
    "gastopublic=pd.read_csv(gastopublicLink)\n",
    "onu=pd.read_csv(onuLink)\n",
    "reservaspet=pd.read_csv(reservaspetLink)"
   ]
  },
  {
   "cell_type": "code",
   "execution_count": null,
   "id": "f7b0a14d",
   "metadata": {},
   "outputs": [],
   "source": []
  }
 ],
 "metadata": {
  "kernelspec": {
   "display_name": "Python 3 (ipykernel)",
   "language": "python",
   "name": "python3"
  },
  "language_info": {
   "codemirror_mode": {
    "name": "ipython",
    "version": 3
   },
   "file_extension": ".py",
   "mimetype": "text/x-python",
   "name": "python",
   "nbconvert_exporter": "python",
   "pygments_lexer": "ipython3",
   "version": "3.11.4"
  }
 },
 "nbformat": 4,
 "nbformat_minor": 5
}
